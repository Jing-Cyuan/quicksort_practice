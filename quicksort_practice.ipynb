{
 "cells": [
  {
   "cell_type": "code",
   "execution_count": 15,
   "id": "cc524d32-a5e6-49e3-a832-a1a95d611e09",
   "metadata": {
    "tags": []
   },
   "outputs": [
    {
     "name": "stdout",
     "output_type": "stream",
     "text": [
      "Initial array: [33, 67, 8, 13, 54, 119, 3, 84, 25, 41]\n",
      "Using pivot 33 at index 0\n",
      "Swapped 25 and 67: [33, 25, 8, 13, 54, 119, 3, 84, 67, 41]\n",
      "Swapped 3 and 54: [33, 25, 8, 13, 3, 119, 54, 84, 67, 41]\n",
      "Swapped pivot 3 with 33: [3, 25, 8, 13, 33, 119, 54, 84, 67, 41]\n",
      "Pivot is now at index 4: [3, 25, 8, 13, 33, 119, 54, 84, 67, 41]\n",
      "Using pivot 3 at index 0\n",
      "Swapped pivot 3 with 3: [3, 25, 8, 13, 33, 119, 54, 84, 67, 41]\n",
      "Pivot is now at index 0: [3, 25, 8, 13, 33, 119, 54, 84, 67, 41]\n",
      "Using pivot 25 at index 1\n",
      "Swapped pivot 13 with 25: [3, 13, 8, 25, 33, 119, 54, 84, 67, 41]\n",
      "Pivot is now at index 3: [3, 13, 8, 25, 33, 119, 54, 84, 67, 41]\n",
      "Using pivot 13 at index 1\n",
      "Swapped pivot 8 with 13: [3, 8, 13, 25, 33, 119, 54, 84, 67, 41]\n",
      "Pivot is now at index 2: [3, 8, 13, 25, 33, 119, 54, 84, 67, 41]\n",
      "Using pivot 119 at index 5\n",
      "Swapped pivot 41 with 119: [3, 8, 13, 25, 33, 41, 54, 84, 67, 119]\n",
      "Pivot is now at index 9: [3, 8, 13, 25, 33, 41, 54, 84, 67, 119]\n",
      "Using pivot 41 at index 5\n",
      "Swapped pivot 41 with 41: [3, 8, 13, 25, 33, 41, 54, 84, 67, 119]\n",
      "Pivot is now at index 5: [3, 8, 13, 25, 33, 41, 54, 84, 67, 119]\n",
      "Using pivot 54 at index 6\n",
      "Swapped pivot 54 with 54: [3, 8, 13, 25, 33, 41, 54, 84, 67, 119]\n",
      "Pivot is now at index 6: [3, 8, 13, 25, 33, 41, 54, 84, 67, 119]\n",
      "Using pivot 84 at index 7\n",
      "Swapped pivot 67 with 84: [3, 8, 13, 25, 33, 41, 54, 67, 84, 119]\n",
      "Pivot is now at index 8: [3, 8, 13, 25, 33, 41, 54, 67, 84, 119]\n",
      "Sorted array: [3, 8, 13, 25, 33, 41, 54, 67, 84, 119]\n"
     ]
    }
   ],
   "source": [
    "def quicksort(arr, low, high):\n",
    "    if low < high:\n",
    "        pi = partition(arr, low, high)\n",
    "        print(f\"Pivot is now at index {pi}: {arr}\")\n",
    "        quicksort(arr, low, pi-1)\n",
    "        quicksort(arr, pi+1, high)\n",
    "\n",
    "def partition(arr, low, high):\n",
    "    pivot = arr[low]  # 使用陣列最開始的元素為基準點\n",
    "    print(f\"Using pivot {pivot} at index {low}\")\n",
    "    left = low + 1\n",
    "    right = high\n",
    "    \n",
    "    done = False\n",
    "    while not done:\n",
    "        while left <= right and arr[left] <= pivot:\n",
    "            left = left + 1\n",
    "        while arr[right] >= pivot and right >= left:\n",
    "            right = right - 1\n",
    "        if right < left:\n",
    "            done = True\n",
    "        else:\n",
    "            arr[left], arr[right] = arr[right], arr[left]\n",
    "            print(f\"Swapped {arr[left]} and {arr[right]}: {arr}\")\n",
    "    \n",
    "    arr[low], arr[right] = arr[right], arr[low]\n",
    "    print(f\"Swapped pivot {arr[low]} with {arr[right]}: {arr}\")\n",
    "    \n",
    "    return right\n",
    "\n",
    "# 主程式\n",
    "arr = [33, 67, 8, 13, 54, 119, 3, 84, 25, 41]\n",
    "print(f\"Initial array: {arr}\")\n",
    "quicksort(arr, 0, len(arr) - 1)\n",
    "print(f\"Sorted array: {arr}\")\n"
   ]
  },
  {
   "cell_type": "code",
   "execution_count": null,
   "id": "b5e1113e-f7bf-496f-b362-fba4488ba973",
   "metadata": {},
   "outputs": [],
   "source": []
  }
 ],
 "metadata": {
  "kernelspec": {
   "display_name": "Python 3 (ipykernel)",
   "language": "python",
   "name": "python3"
  },
  "language_info": {
   "codemirror_mode": {
    "name": "ipython",
    "version": 3
   },
   "file_extension": ".py",
   "mimetype": "text/x-python",
   "name": "python",
   "nbconvert_exporter": "python",
   "pygments_lexer": "ipython3",
   "version": "3.11.5"
  }
 },
 "nbformat": 4,
 "nbformat_minor": 5
}
